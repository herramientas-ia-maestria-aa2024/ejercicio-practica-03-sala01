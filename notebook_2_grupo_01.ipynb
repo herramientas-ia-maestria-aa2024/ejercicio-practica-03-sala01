{
 "cells": [
  {
   "cell_type": "code",
   "execution_count": 27,
   "metadata": {},
   "outputs": [],
   "source": [
    "# Importar librerías necesarias\n",
    "import pandas as pd\n",
    "import pygwalker as pyg"
   ]
  },
  {
   "cell_type": "code",
   "execution_count": 28,
   "metadata": {},
   "outputs": [],
   "source": [
    "# Leer archivo CSV y almacenarlo en una variable tipo dataframe\n",
    "data = pd.read_csv(\"midata_grupo_01.csv\")"
   ]
  },
  {
   "cell_type": "code",
   "execution_count": 29,
   "metadata": {},
   "outputs": [],
   "source": [
    "# Crear una columna adicional de Edad pero del tipo string para graficar correctamente \n",
    "data[\"Edad_String\"] = data[\"Edad\"].astype(str)"
   ]
  },
  {
   "cell_type": "code",
   "execution_count": 32,
   "metadata": {},
   "outputs": [
    {
     "ename": "TypeError",
     "evalue": "pygwalker.api.pygwalker.PygWalker() got multiple values for keyword argument 'use_preview'",
     "output_type": "error",
     "traceback": [
      "\u001b[1;31m---------------------------------------------------------------------------\u001b[0m",
      "\u001b[1;31mTypeError\u001b[0m                                 Traceback (most recent call last)",
      "Cell \u001b[1;32mIn[32], line 2\u001b[0m\n\u001b[0;32m      1\u001b[0m \u001b[38;5;66;03m# Generar el objeto gráfico para Edad\u001b[39;00m\n\u001b[1;32m----> 2\u001b[0m walker \u001b[38;5;241m=\u001b[39m \u001b[43mpyg\u001b[49m\u001b[38;5;241;43m.\u001b[39;49m\u001b[43mwalk\u001b[49m\u001b[43m(\u001b[49m\u001b[43mdata\u001b[49m\u001b[43m,\u001b[49m\u001b[43m \u001b[49m\u001b[43mspec\u001b[49m\u001b[38;5;241;43m=\u001b[39;49m\u001b[38;5;124;43m\"\u001b[39;49m\u001b[38;5;124;43mgraph.json\u001b[39;49m\u001b[38;5;124;43m\"\u001b[39;49m\u001b[43m,\u001b[49m\u001b[43m \u001b[49m\u001b[43muse_kernel_calc\u001b[49m\u001b[38;5;241;43m=\u001b[39;49m\u001b[38;5;28;43;01mTrue\u001b[39;49;00m\u001b[43m,\u001b[49m\u001b[43m \u001b[49m\u001b[43muse_preview\u001b[49m\u001b[38;5;241;43m=\u001b[39;49m\u001b[38;5;28;43;01mTrue\u001b[39;49;00m\u001b[43m)\u001b[49m\n",
      "File \u001b[1;32mc:\\Users\\Jaris Aizprua\\AppData\\Local\\Programs\\Python\\Python311\\Lib\\site-packages\\pygwalker\\api\\jupyter.py:61\u001b[0m, in \u001b[0;36mwalk\u001b[1;34m(dataset, gid, env, field_specs, theme_key, appearance, spec, use_kernel_calc, kernel_computation, cloud_computation, show_cloud_tool, kanaries_api_key, default_tab, **kwargs)\u001b[0m\n\u001b[0;32m     55\u001b[0m     field_specs \u001b[38;5;241m=\u001b[39m []\n\u001b[0;32m     57\u001b[0m source_invoke_code \u001b[38;5;241m=\u001b[39m get_formated_spec_params_code_from_frame(\n\u001b[0;32m     58\u001b[0m     inspect\u001b[38;5;241m.\u001b[39mstack()[\u001b[38;5;241m1\u001b[39m]\u001b[38;5;241m.\u001b[39mframe\n\u001b[0;32m     59\u001b[0m )\n\u001b[1;32m---> 61\u001b[0m walker \u001b[38;5;241m=\u001b[39m PygWalker(\n\u001b[0;32m     62\u001b[0m     gid\u001b[38;5;241m=\u001b[39mgid,\n\u001b[0;32m     63\u001b[0m     dataset\u001b[38;5;241m=\u001b[39mdataset,\n\u001b[0;32m     64\u001b[0m     field_specs\u001b[38;5;241m=\u001b[39mfield_specs,\n\u001b[0;32m     65\u001b[0m     spec\u001b[38;5;241m=\u001b[39mspec,\n\u001b[0;32m     66\u001b[0m     source_invoke_code\u001b[38;5;241m=\u001b[39msource_invoke_code,\n\u001b[0;32m     67\u001b[0m     theme_key\u001b[38;5;241m=\u001b[39mtheme_key,\n\u001b[0;32m     68\u001b[0m     appearance\u001b[38;5;241m=\u001b[39mappearance,\n\u001b[0;32m     69\u001b[0m     show_cloud_tool\u001b[38;5;241m=\u001b[39mshow_cloud_tool,\n\u001b[0;32m     70\u001b[0m     use_preview\u001b[38;5;241m=\u001b[39m\u001b[38;5;28;01mTrue\u001b[39;00m,\n\u001b[0;32m     71\u001b[0m     kernel_computation\u001b[38;5;241m=\u001b[39m\u001b[38;5;28misinstance\u001b[39m(dataset, (Connector, \u001b[38;5;28mstr\u001b[39m)) \u001b[38;5;129;01mor\u001b[39;00m fallback_value(kernel_computation, use_kernel_calc),\n\u001b[0;32m     72\u001b[0m     use_save_tool\u001b[38;5;241m=\u001b[39m\u001b[38;5;28;01mTrue\u001b[39;00m,\n\u001b[0;32m     73\u001b[0m     gw_mode\u001b[38;5;241m=\u001b[39m\u001b[38;5;124m\"\u001b[39m\u001b[38;5;124mexplore\u001b[39m\u001b[38;5;124m\"\u001b[39m,\n\u001b[0;32m     74\u001b[0m     is_export_dataframe\u001b[38;5;241m=\u001b[39m\u001b[38;5;28;01mTrue\u001b[39;00m,\n\u001b[0;32m     75\u001b[0m     kanaries_api_key\u001b[38;5;241m=\u001b[39mkanaries_api_key,\n\u001b[0;32m     76\u001b[0m     default_tab\u001b[38;5;241m=\u001b[39mdefault_tab,\n\u001b[0;32m     77\u001b[0m     cloud_computation\u001b[38;5;241m=\u001b[39mcloud_computation,\n\u001b[0;32m     78\u001b[0m     \u001b[38;5;241m*\u001b[39m\u001b[38;5;241m*\u001b[39mkwargs\n\u001b[0;32m     79\u001b[0m )\n\u001b[0;32m     81\u001b[0m \u001b[38;5;28;01mif\u001b[39;00m check_kaggle():\n\u001b[0;32m     82\u001b[0m     auto_set_kanaries_api_key_on_kaggle()\n",
      "\u001b[1;31mTypeError\u001b[0m: pygwalker.api.pygwalker.PygWalker() got multiple values for keyword argument 'use_preview'"
     ]
    }
   ],
   "source": [
    "# Generar el objeto gráfico para Edad\n",
    "pyg.walk(data)"
   ]
  },
  {
   "cell_type": "code",
   "execution_count": 31,
   "metadata": {},
   "outputs": [
    {
     "data": {
      "application/vnd.jupyter.widget-view+json": {
       "model_id": "fe06942ba8c841a69801b0170298a968",
       "version_major": 2,
       "version_minor": 0
      },
      "text/plain": [
       "Box(children=(HTML(value='<div id=\"ifr-pyg-000616cec90751cbUXOxGyrBcMJhueDb\" style=\"height: auto\">\\n    <head>…"
      ]
     },
     "metadata": {},
     "output_type": "display_data"
    },
    {
     "data": {
      "text/html": [],
      "text/plain": [
       "<IPython.core.display.HTML object>"
      ]
     },
     "metadata": {},
     "output_type": "display_data"
    },
    {
     "data": {
      "text/plain": [
       "<pygwalker.api.pygwalker.PygWalker at 0x1a90003e9d0>"
      ]
     },
     "execution_count": 31,
     "metadata": {},
     "output_type": "execute_result"
    }
   ],
   "source": [
    "# Generar el objeto gráfico para Provincias\n",
    "pyg.walk(data)"
   ]
  }
 ],
 "metadata": {
  "kernelspec": {
   "display_name": "Python 3",
   "language": "python",
   "name": "python3"
  },
  "language_info": {
   "codemirror_mode": {
    "name": "ipython",
    "version": 3
   },
   "file_extension": ".py",
   "mimetype": "text/x-python",
   "name": "python",
   "nbconvert_exporter": "python",
   "pygments_lexer": "ipython3",
   "version": "3.11.3"
  }
 },
 "nbformat": 4,
 "nbformat_minor": 2
}
